{
  "nbformat": 4,
  "nbformat_minor": 0,
  "metadata": {
    "colab": {
      "name": "Hypothesis.ipynb",
      "provenance": [],
      "authorship_tag": "ABX9TyOctOabVqch5Tm9MuLs1Dac",
      "include_colab_link": true
    },
    "kernelspec": {
      "name": "python3",
      "display_name": "Python 3"
    },
    "language_info": {
      "name": "python"
    }
  },
  "cells": [
    {
      "cell_type": "markdown",
      "metadata": {
        "id": "view-in-github",
        "colab_type": "text"
      },
      "source": [
        "<a href=\"https://colab.research.google.com/github/Aashrit77/Python/blob/main/Hypothesis.ipynb\" target=\"_parent\"><img src=\"https://colab.research.google.com/assets/colab-badge.svg\" alt=\"Open In Colab\"/></a>"
      ]
    },
    {
      "cell_type": "code",
      "metadata": {
        "colab": {
          "base_uri": "https://localhost:8080/"
        },
        "id": "-XZX5plcS2_T",
        "outputId": "3489fe6b-4626-41a7-bb74-fb2fb46bc000"
      },
      "source": [
        "import scipy\n",
        "from scipy import stats\n",
        "import pandas as pd\n",
        "\n",
        "1 - stats.t.cdf(2.24,df = 79)"
      ],
      "execution_count": 1,
      "outputs": [
        {
          "output_type": "execute_result",
          "data": {
            "text/plain": [
              "0.013950580998529194"
            ]
          },
          "metadata": {},
          "execution_count": 1
        }
      ]
    },
    {
      "cell_type": "code",
      "metadata": {
        "id": "2l2x4kkdTF46"
      },
      "source": [
        "t = stats.t.cdf(-5.89, df = 49)"
      ],
      "execution_count": 2,
      "outputs": []
    },
    {
      "cell_type": "code",
      "metadata": {
        "colab": {
          "base_uri": "https://localhost:8080/"
        },
        "id": "dDcAl0eKfINe",
        "outputId": "1654ee1b-87da-48c9-8bef-352c4bf8b0a8"
      },
      "source": [
        "t*2"
      ],
      "execution_count": 3,
      "outputs": [
        {
          "output_type": "execute_result",
          "data": {
            "text/plain": [
              "3.455969509076068e-07"
            ]
          },
          "metadata": {},
          "execution_count": 3
        }
      ]
    },
    {
      "cell_type": "code",
      "metadata": {
        "id": "jlruPny0fOLF"
      },
      "source": [
        "data = pd.Series([0.593,0.142,0.329,0.691,0.231,0.793,0.519,0.392,0.418])\n",
        "p = scipy.stats.ttest_1samp(data, 0.3)[1]"
      ],
      "execution_count": 4,
      "outputs": []
    },
    {
      "cell_type": "code",
      "metadata": {
        "colab": {
          "base_uri": "https://localhost:8080/"
        },
        "id": "PKe5FdHzsJJm",
        "outputId": "5922f1b0-2f40-4fee-b4e5-90076f3c84fd"
      },
      "source": [
        "p/2"
      ],
      "execution_count": 5,
      "outputs": [
        {
          "output_type": "execute_result",
          "data": {
            "text/plain": [
              "0.029265164842448826"
            ]
          },
          "metadata": {},
          "execution_count": 5
        }
      ]
    },
    {
      "cell_type": "code",
      "metadata": {
        "colab": {
          "base_uri": "https://localhost:8080/"
        },
        "id": "91uSwKKatKPB",
        "outputId": "110ae85f-14e1-4ad7-ffc9-6d73a0dbcacc"
      },
      "source": [
        "con = pd.Series([91,87,99,77,88,91])\n",
        "tre = pd.Series([101,110,103,93,99,104])\n",
        "stats.ttest_ind(con,tre)"
      ],
      "execution_count": 6,
      "outputs": [
        {
          "output_type": "execute_result",
          "data": {
            "text/plain": [
              "Ttest_indResult(statistic=-3.445612673536487, pvalue=0.006272124350809803)"
            ]
          },
          "metadata": {},
          "execution_count": 6
        }
      ]
    },
    {
      "cell_type": "code",
      "metadata": {
        "id": "T2FQBtmqi_0-"
      },
      "source": [
        "import statsmodels.api as sm\n",
        "import numpy as np\n"
      ],
      "execution_count": 9,
      "outputs": []
    },
    {
      "cell_type": "code",
      "metadata": {
        "id": "wy5gI95jnHz1"
      },
      "source": [
        "n1 = 247\n",
        "p1 = 0.37\n",
        "\n",
        "n2 = 308\n",
        "p2 = 0.39"
      ],
      "execution_count": 10,
      "outputs": []
    },
    {
      "cell_type": "code",
      "metadata": {
        "colab": {
          "base_uri": "https://localhost:8080/"
        },
        "id": "xX1PXCaOnVkI",
        "outputId": "34e1a5ae-12ed-4f57-e34a-acdaebece58b"
      },
      "source": [
        "pop1 = np.random.binomial(1,p1,n1)\n",
        "pop2 = np.random.binomial(1,p2,n2)\n",
        "pop2.mean()"
      ],
      "execution_count": 15,
      "outputs": [
        {
          "output_type": "execute_result",
          "data": {
            "text/plain": [
              "0.38636363636363635"
            ]
          },
          "metadata": {},
          "execution_count": 15
        }
      ]
    },
    {
      "cell_type": "code",
      "metadata": {
        "colab": {
          "base_uri": "https://localhost:8080/"
        },
        "id": "lSXccQLSny_e",
        "outputId": "ebddc877-a4e6-4d74-f433-7f862cf73284"
      },
      "source": [
        "sm.stats.ttest_ind(pop1,pop2)"
      ],
      "execution_count": 17,
      "outputs": [
        {
          "output_type": "execute_result",
          "data": {
            "text/plain": [
              "(-0.13930993385933052, 0.8892559593550502, 553.0)"
            ]
          },
          "metadata": {},
          "execution_count": 17
        }
      ]
    },
    {
      "cell_type": "code",
      "metadata": {
        "id": "AuGLT6rwn4s3"
      },
      "source": [
        ""
      ],
      "execution_count": 17,
      "outputs": []
    }
  ]
}