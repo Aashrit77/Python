{
  "nbformat": 4,
  "nbformat_minor": 0,
  "metadata": {
    "colab": {
      "name": "DT_C5/CART.ipynb",
      "provenance": [],
      "authorship_tag": "ABX9TyMzMbuUPVH3qK5WteSgz6kf",
      "include_colab_link": true
    },
    "kernelspec": {
      "name": "python3",
      "display_name": "Python 3"
    },
    "language_info": {
      "name": "python"
    }
  },
  "cells": [
    {
      "cell_type": "markdown",
      "metadata": {
        "id": "view-in-github",
        "colab_type": "text"
      },
      "source": [
        "<a href=\"https://colab.research.google.com/github/Aashrit77/Python/blob/main/DT_C5_CART.ipynb\" target=\"_parent\"><img src=\"https://colab.research.google.com/assets/colab-badge.svg\" alt=\"Open In Colab\"/></a>"
      ]
    },
    {
      "cell_type": "code",
      "metadata": {
        "id": "RaaU1Aj2m2tK"
      },
      "source": [
        "import pandas as pd\n",
        "import matplotlib.pyplot as plt\n",
        "from sklearn import datasets\n",
        "import numpy as np\n",
        "from sklearn.model_selection import train_test_split #the is used to split the data into train and test\n",
        "from sklearn.tree import DecisionTreeClassifier\n",
        "from sklearn.metrics import classification_report\n",
        "from sklearn import preprocessing #this is for normalizing the data/ the label encoder\n",
        "from sklearn import tree"
      ],
      "execution_count": 1,
      "outputs": []
    },
    {
      "cell_type": "code",
      "metadata": {
        "colab": {
          "base_uri": "https://localhost:8080/",
          "height": 203
        },
        "id": "uNWEIFaVo6rw",
        "outputId": "9e10f2dd-8fb1-4d58-fdd5-2998d18883bc"
      },
      "source": [
        "iris = pd.read_csv(\"/content/iris.csv\")\n",
        "iris.head()"
      ],
      "execution_count": 2,
      "outputs": [
        {
          "output_type": "execute_result",
          "data": {
            "text/html": [
              "<div>\n",
              "<style scoped>\n",
              "    .dataframe tbody tr th:only-of-type {\n",
              "        vertical-align: middle;\n",
              "    }\n",
              "\n",
              "    .dataframe tbody tr th {\n",
              "        vertical-align: top;\n",
              "    }\n",
              "\n",
              "    .dataframe thead th {\n",
              "        text-align: right;\n",
              "    }\n",
              "</style>\n",
              "<table border=\"1\" class=\"dataframe\">\n",
              "  <thead>\n",
              "    <tr style=\"text-align: right;\">\n",
              "      <th></th>\n",
              "      <th>sepal.length</th>\n",
              "      <th>sepal.width</th>\n",
              "      <th>petal.length</th>\n",
              "      <th>petal.width</th>\n",
              "      <th>variety</th>\n",
              "    </tr>\n",
              "  </thead>\n",
              "  <tbody>\n",
              "    <tr>\n",
              "      <th>0</th>\n",
              "      <td>5.1</td>\n",
              "      <td>3.5</td>\n",
              "      <td>1.4</td>\n",
              "      <td>0.2</td>\n",
              "      <td>Setosa</td>\n",
              "    </tr>\n",
              "    <tr>\n",
              "      <th>1</th>\n",
              "      <td>4.9</td>\n",
              "      <td>3.0</td>\n",
              "      <td>1.4</td>\n",
              "      <td>0.2</td>\n",
              "      <td>Setosa</td>\n",
              "    </tr>\n",
              "    <tr>\n",
              "      <th>2</th>\n",
              "      <td>4.7</td>\n",
              "      <td>3.2</td>\n",
              "      <td>1.3</td>\n",
              "      <td>0.2</td>\n",
              "      <td>Setosa</td>\n",
              "    </tr>\n",
              "    <tr>\n",
              "      <th>3</th>\n",
              "      <td>4.6</td>\n",
              "      <td>3.1</td>\n",
              "      <td>1.5</td>\n",
              "      <td>0.2</td>\n",
              "      <td>Setosa</td>\n",
              "    </tr>\n",
              "    <tr>\n",
              "      <th>4</th>\n",
              "      <td>5.0</td>\n",
              "      <td>3.6</td>\n",
              "      <td>1.4</td>\n",
              "      <td>0.2</td>\n",
              "      <td>Setosa</td>\n",
              "    </tr>\n",
              "  </tbody>\n",
              "</table>\n",
              "</div>"
            ],
            "text/plain": [
              "   sepal.length  sepal.width  petal.length  petal.width variety\n",
              "0           5.1          3.5           1.4          0.2  Setosa\n",
              "1           4.9          3.0           1.4          0.2  Setosa\n",
              "2           4.7          3.2           1.3          0.2  Setosa\n",
              "3           4.6          3.1           1.5          0.2  Setosa\n",
              "4           5.0          3.6           1.4          0.2  Setosa"
            ]
          },
          "metadata": {},
          "execution_count": 2
        }
      ]
    },
    {
      "cell_type": "code",
      "metadata": {
        "colab": {
          "base_uri": "https://localhost:8080/"
        },
        "id": "Dx6uZ0E6qnAK",
        "outputId": "14b1cbc7-e7b8-44c4-f14a-05ac5ff79ee8"
      },
      "source": [
        "iris.info()"
      ],
      "execution_count": 3,
      "outputs": [
        {
          "output_type": "stream",
          "name": "stdout",
          "text": [
            "<class 'pandas.core.frame.DataFrame'>\n",
            "RangeIndex: 150 entries, 0 to 149\n",
            "Data columns (total 5 columns):\n",
            " #   Column        Non-Null Count  Dtype  \n",
            "---  ------        --------------  -----  \n",
            " 0   sepal.length  150 non-null    float64\n",
            " 1   sepal.width   150 non-null    float64\n",
            " 2   petal.length  150 non-null    float64\n",
            " 3   petal.width   150 non-null    float64\n",
            " 4   variety       150 non-null    object \n",
            "dtypes: float64(4), object(1)\n",
            "memory usage: 6.0+ KB\n"
          ]
        }
      ]
    },
    {
      "cell_type": "code",
      "metadata": {
        "id": "BPmyJqNhpr9Z"
      },
      "source": [
        "#variety is in catogorical hence we have to make it numerical using labelencoder\n",
        "label_encoder = preprocessing.LabelEncoder()\n",
        "iris[\"Species\"] = label_encoder.fit_transform(iris[\"variety\"])"
      ],
      "execution_count": 4,
      "outputs": []
    },
    {
      "cell_type": "code",
      "metadata": {
        "colab": {
          "base_uri": "https://localhost:8080/",
          "height": 203
        },
        "id": "9TnB2HWvqaeI",
        "outputId": "1bc4320c-97e1-4ef3-e6bc-f088d137d5d0"
      },
      "source": [
        "iris.head()"
      ],
      "execution_count": 5,
      "outputs": [
        {
          "output_type": "execute_result",
          "data": {
            "text/html": [
              "<div>\n",
              "<style scoped>\n",
              "    .dataframe tbody tr th:only-of-type {\n",
              "        vertical-align: middle;\n",
              "    }\n",
              "\n",
              "    .dataframe tbody tr th {\n",
              "        vertical-align: top;\n",
              "    }\n",
              "\n",
              "    .dataframe thead th {\n",
              "        text-align: right;\n",
              "    }\n",
              "</style>\n",
              "<table border=\"1\" class=\"dataframe\">\n",
              "  <thead>\n",
              "    <tr style=\"text-align: right;\">\n",
              "      <th></th>\n",
              "      <th>sepal.length</th>\n",
              "      <th>sepal.width</th>\n",
              "      <th>petal.length</th>\n",
              "      <th>petal.width</th>\n",
              "      <th>variety</th>\n",
              "      <th>Species</th>\n",
              "    </tr>\n",
              "  </thead>\n",
              "  <tbody>\n",
              "    <tr>\n",
              "      <th>0</th>\n",
              "      <td>5.1</td>\n",
              "      <td>3.5</td>\n",
              "      <td>1.4</td>\n",
              "      <td>0.2</td>\n",
              "      <td>Setosa</td>\n",
              "      <td>0</td>\n",
              "    </tr>\n",
              "    <tr>\n",
              "      <th>1</th>\n",
              "      <td>4.9</td>\n",
              "      <td>3.0</td>\n",
              "      <td>1.4</td>\n",
              "      <td>0.2</td>\n",
              "      <td>Setosa</td>\n",
              "      <td>0</td>\n",
              "    </tr>\n",
              "    <tr>\n",
              "      <th>2</th>\n",
              "      <td>4.7</td>\n",
              "      <td>3.2</td>\n",
              "      <td>1.3</td>\n",
              "      <td>0.2</td>\n",
              "      <td>Setosa</td>\n",
              "      <td>0</td>\n",
              "    </tr>\n",
              "    <tr>\n",
              "      <th>3</th>\n",
              "      <td>4.6</td>\n",
              "      <td>3.1</td>\n",
              "      <td>1.5</td>\n",
              "      <td>0.2</td>\n",
              "      <td>Setosa</td>\n",
              "      <td>0</td>\n",
              "    </tr>\n",
              "    <tr>\n",
              "      <th>4</th>\n",
              "      <td>5.0</td>\n",
              "      <td>3.6</td>\n",
              "      <td>1.4</td>\n",
              "      <td>0.2</td>\n",
              "      <td>Setosa</td>\n",
              "      <td>0</td>\n",
              "    </tr>\n",
              "  </tbody>\n",
              "</table>\n",
              "</div>"
            ],
            "text/plain": [
              "   sepal.length  sepal.width  petal.length  petal.width variety  Species\n",
              "0           5.1          3.5           1.4          0.2  Setosa        0\n",
              "1           4.9          3.0           1.4          0.2  Setosa        0\n",
              "2           4.7          3.2           1.3          0.2  Setosa        0\n",
              "3           4.6          3.1           1.5          0.2  Setosa        0\n",
              "4           5.0          3.6           1.4          0.2  Setosa        0"
            ]
          },
          "metadata": {},
          "execution_count": 5
        }
      ]
    },
    {
      "cell_type": "code",
      "metadata": {
        "id": "PKBWkfd4q9Z5"
      },
      "source": [
        "x = iris.iloc[:,0:4]\n",
        "y = iris[\"Species\"]"
      ],
      "execution_count": 6,
      "outputs": []
    },
    {
      "cell_type": "code",
      "metadata": {
        "colab": {
          "base_uri": "https://localhost:8080/",
          "height": 417
        },
        "id": "u2bh8cbMrNEI",
        "outputId": "9e87d3e2-fa5f-4d21-a3d3-896b73f2e548"
      },
      "source": [
        "x"
      ],
      "execution_count": 7,
      "outputs": [
        {
          "output_type": "execute_result",
          "data": {
            "text/html": [
              "<div>\n",
              "<style scoped>\n",
              "    .dataframe tbody tr th:only-of-type {\n",
              "        vertical-align: middle;\n",
              "    }\n",
              "\n",
              "    .dataframe tbody tr th {\n",
              "        vertical-align: top;\n",
              "    }\n",
              "\n",
              "    .dataframe thead th {\n",
              "        text-align: right;\n",
              "    }\n",
              "</style>\n",
              "<table border=\"1\" class=\"dataframe\">\n",
              "  <thead>\n",
              "    <tr style=\"text-align: right;\">\n",
              "      <th></th>\n",
              "      <th>sepal.length</th>\n",
              "      <th>sepal.width</th>\n",
              "      <th>petal.length</th>\n",
              "      <th>petal.width</th>\n",
              "    </tr>\n",
              "  </thead>\n",
              "  <tbody>\n",
              "    <tr>\n",
              "      <th>0</th>\n",
              "      <td>5.1</td>\n",
              "      <td>3.5</td>\n",
              "      <td>1.4</td>\n",
              "      <td>0.2</td>\n",
              "    </tr>\n",
              "    <tr>\n",
              "      <th>1</th>\n",
              "      <td>4.9</td>\n",
              "      <td>3.0</td>\n",
              "      <td>1.4</td>\n",
              "      <td>0.2</td>\n",
              "    </tr>\n",
              "    <tr>\n",
              "      <th>2</th>\n",
              "      <td>4.7</td>\n",
              "      <td>3.2</td>\n",
              "      <td>1.3</td>\n",
              "      <td>0.2</td>\n",
              "    </tr>\n",
              "    <tr>\n",
              "      <th>3</th>\n",
              "      <td>4.6</td>\n",
              "      <td>3.1</td>\n",
              "      <td>1.5</td>\n",
              "      <td>0.2</td>\n",
              "    </tr>\n",
              "    <tr>\n",
              "      <th>4</th>\n",
              "      <td>5.0</td>\n",
              "      <td>3.6</td>\n",
              "      <td>1.4</td>\n",
              "      <td>0.2</td>\n",
              "    </tr>\n",
              "    <tr>\n",
              "      <th>...</th>\n",
              "      <td>...</td>\n",
              "      <td>...</td>\n",
              "      <td>...</td>\n",
              "      <td>...</td>\n",
              "    </tr>\n",
              "    <tr>\n",
              "      <th>145</th>\n",
              "      <td>6.7</td>\n",
              "      <td>3.0</td>\n",
              "      <td>5.2</td>\n",
              "      <td>2.3</td>\n",
              "    </tr>\n",
              "    <tr>\n",
              "      <th>146</th>\n",
              "      <td>6.3</td>\n",
              "      <td>2.5</td>\n",
              "      <td>5.0</td>\n",
              "      <td>1.9</td>\n",
              "    </tr>\n",
              "    <tr>\n",
              "      <th>147</th>\n",
              "      <td>6.5</td>\n",
              "      <td>3.0</td>\n",
              "      <td>5.2</td>\n",
              "      <td>2.0</td>\n",
              "    </tr>\n",
              "    <tr>\n",
              "      <th>148</th>\n",
              "      <td>6.2</td>\n",
              "      <td>3.4</td>\n",
              "      <td>5.4</td>\n",
              "      <td>2.3</td>\n",
              "    </tr>\n",
              "    <tr>\n",
              "      <th>149</th>\n",
              "      <td>5.9</td>\n",
              "      <td>3.0</td>\n",
              "      <td>5.1</td>\n",
              "      <td>1.8</td>\n",
              "    </tr>\n",
              "  </tbody>\n",
              "</table>\n",
              "<p>150 rows × 4 columns</p>\n",
              "</div>"
            ],
            "text/plain": [
              "     sepal.length  sepal.width  petal.length  petal.width\n",
              "0             5.1          3.5           1.4          0.2\n",
              "1             4.9          3.0           1.4          0.2\n",
              "2             4.7          3.2           1.3          0.2\n",
              "3             4.6          3.1           1.5          0.2\n",
              "4             5.0          3.6           1.4          0.2\n",
              "..            ...          ...           ...          ...\n",
              "145           6.7          3.0           5.2          2.3\n",
              "146           6.3          2.5           5.0          1.9\n",
              "147           6.5          3.0           5.2          2.0\n",
              "148           6.2          3.4           5.4          2.3\n",
              "149           5.9          3.0           5.1          1.8\n",
              "\n",
              "[150 rows x 4 columns]"
            ]
          },
          "metadata": {},
          "execution_count": 7
        }
      ]
    },
    {
      "cell_type": "code",
      "metadata": {
        "colab": {
          "base_uri": "https://localhost:8080/"
        },
        "id": "BcSooNlHrRbS",
        "outputId": "6d73aac0-9b91-48c9-f515-4daee5e94719"
      },
      "source": [
        "iris.Species.unique()"
      ],
      "execution_count": 8,
      "outputs": [
        {
          "output_type": "execute_result",
          "data": {
            "text/plain": [
              "array([0, 1, 2])"
            ]
          },
          "metadata": {},
          "execution_count": 8
        }
      ]
    },
    {
      "cell_type": "code",
      "metadata": {
        "colab": {
          "base_uri": "https://localhost:8080/"
        },
        "id": "BElBYU_7rbk7",
        "outputId": "6f6c768d-4225-4dc7-be1c-c4e07466fcd4"
      },
      "source": [
        "iris.Species.value_counts()"
      ],
      "execution_count": 9,
      "outputs": [
        {
          "output_type": "execute_result",
          "data": {
            "text/plain": [
              "2    50\n",
              "1    50\n",
              "0    50\n",
              "Name: Species, dtype: int64"
            ]
          },
          "metadata": {},
          "execution_count": 9
        }
      ]
    },
    {
      "cell_type": "code",
      "metadata": {
        "id": "gFLvA1nergVC"
      },
      "source": [
        "#splitting the data into train and test data\n",
        "x_train,x_test,y_train,y_test = train_test_split(x,y,test_size = 0.2,random_state = 40)"
      ],
      "execution_count": 10,
      "outputs": []
    },
    {
      "cell_type": "markdown",
      "metadata": {
        "id": "XGDohuYZsoms"
      },
      "source": [
        "# Building a decision tree classifier using entropy criteria"
      ]
    },
    {
      "cell_type": "code",
      "metadata": {
        "colab": {
          "base_uri": "https://localhost:8080/",
          "height": 248
        },
        "id": "AcSfiNyDsfaX",
        "outputId": "fb0d789a-e1cf-4ff0-e519-9533e9844013"
      },
      "source": [
        "model = DecisionTreeClassifier(criterion=\"entropy\",max_depth=5)\n",
        "model.fit(x_train,y_train)\n",
        "tree.plot_tree(model)\n",
        "plt.show()"
      ],
      "execution_count": 11,
      "outputs": [
        {
          "output_type": "display_data",
          "data": {
            "image/png": "[encoded data removed]",
            "text/plain": [
              "<Figure size 432x288 with 1 Axes>"
            ]
          },
          "metadata": {
            "needs_background": "light"
          }
        }
      ]
    },
    {
      "cell_type": "code",
      "metadata": {
        "colab": {
          "base_uri": "https://localhost:8080/",
          "height": 983
        },
        "id": "RB9oXcmOtQZC",
        "outputId": "cbfc7163-db7c-41d9-d489-65b9d4376d71"
      },
      "source": [
        "fn = [\"sepal length\",\"sepal width\",\"petal length\",\"petal width\"]\n",
        "cn = [\"sentosa\",\"versicolor\",\"verginica\"]\n",
        "fig,axes = plt.subplots(nrows=1,ncols=1,figsize=(4,4),dpi = 300)\n",
        "tree.plot_tree(model,\n",
        "               feature_names = fn,\n",
        "               class_names = cn,\n",
        "               filled = True)\n",
        "plt.show()"
      ],
      "execution_count": 12,
      "outputs": [
        {
          "output_type": "display_data",
          "data": {
            "image/png": "[encoded data removed]",
            "text/plain": [
              "<Figure size 1200x1200 with 1 Axes>"
            ]
          },
          "metadata": {
            "needs_background": "light"
          }
        }
      ]
    },
    {
      "cell_type": "markdown",
      "metadata": {
        "id": "yGEP90fjyOMm"
      },
      "source": [
        "#Predicting on test data"
      ]
    },
    {
      "cell_type": "code",
      "metadata": {
        "colab": {
          "base_uri": "https://localhost:8080/"
        },
        "id": "PSDZghBTvGxm",
        "outputId": "53e949df-86ea-4b31-e9a2-105cac415223"
      },
      "source": [
        "preds = model.predict(x_test)\n",
        "pd.Series(preds).value_counts()"
      ],
      "execution_count": 13,
      "outputs": [
        {
          "output_type": "execute_result",
          "data": {
            "text/plain": [
              "1    12\n",
              "2    10\n",
              "0     8\n",
              "dtype: int64"
            ]
          },
          "metadata": {},
          "execution_count": 13
        }
      ]
    },
    {
      "cell_type": "code",
      "metadata": {
        "colab": {
          "base_uri": "https://localhost:8080/"
        },
        "id": "j5H37Xh2yplW",
        "outputId": "462fedc1-389a-4fee-9d7f-d622e38e278c"
      },
      "source": [
        "preds"
      ],
      "execution_count": 14,
      "outputs": [
        {
          "output_type": "execute_result",
          "data": {
            "text/plain": [
              "array([0, 1, 2, 2, 1, 2, 1, 1, 1, 0, 1, 0, 0, 2, 1, 2, 2, 2, 1, 1, 2, 2,\n",
              "       1, 0, 1, 0, 0, 2, 0, 1])"
            ]
          },
          "metadata": {},
          "execution_count": 14
        }
      ]
    },
    {
      "cell_type": "code",
      "metadata": {
        "colab": {
          "base_uri": "https://localhost:8080/"
        },
        "id": "aD-pJOP3yuCq",
        "outputId": "6365419c-78b4-40b1-8408-4714c5f33fdb"
      },
      "source": [
        "np.mean(preds==y_test)"
      ],
      "execution_count": 15,
      "outputs": [
        {
          "output_type": "execute_result",
          "data": {
            "text/plain": [
              "1.0"
            ]
          },
          "metadata": {},
          "execution_count": 15
        }
      ]
    },
    {
      "cell_type": "code",
      "metadata": {
        "colab": {
          "base_uri": "https://localhost:8080/",
          "height": 172
        },
        "id": "ZcIQ0OEFy4s6",
        "outputId": "1250982b-2de5-4aed-a2f5-f340470fc82a"
      },
      "source": [
        "pd.crosstab(y_test,preds)"
      ],
      "execution_count": 16,
      "outputs": [
        {
          "output_type": "execute_result",
          "data": {
            "text/html": [
              "<div>\n",
              "<style scoped>\n",
              "    .dataframe tbody tr th:only-of-type {\n",
              "        vertical-align: middle;\n",
              "    }\n",
              "\n",
              "    .dataframe tbody tr th {\n",
              "        vertical-align: top;\n",
              "    }\n",
              "\n",
              "    .dataframe thead th {\n",
              "        text-align: right;\n",
              "    }\n",
              "</style>\n",
              "<table border=\"1\" class=\"dataframe\">\n",
              "  <thead>\n",
              "    <tr style=\"text-align: right;\">\n",
              "      <th>col_0</th>\n",
              "      <th>0</th>\n",
              "      <th>1</th>\n",
              "      <th>2</th>\n",
              "    </tr>\n",
              "    <tr>\n",
              "      <th>Species</th>\n",
              "      <th></th>\n",
              "      <th></th>\n",
              "      <th></th>\n",
              "    </tr>\n",
              "  </thead>\n",
              "  <tbody>\n",
              "    <tr>\n",
              "      <th>0</th>\n",
              "      <td>8</td>\n",
              "      <td>0</td>\n",
              "      <td>0</td>\n",
              "    </tr>\n",
              "    <tr>\n",
              "      <th>1</th>\n",
              "      <td>0</td>\n",
              "      <td>12</td>\n",
              "      <td>0</td>\n",
              "    </tr>\n",
              "    <tr>\n",
              "      <th>2</th>\n",
              "      <td>0</td>\n",
              "      <td>0</td>\n",
              "      <td>10</td>\n",
              "    </tr>\n",
              "  </tbody>\n",
              "</table>\n",
              "</div>"
            ],
            "text/plain": [
              "col_0    0   1   2\n",
              "Species           \n",
              "0        8   0   0\n",
              "1        0  12   0\n",
              "2        0   0  10"
            ]
          },
          "metadata": {},
          "execution_count": 16
        }
      ]
    },
    {
      "cell_type": "markdown",
      "metadata": {
        "id": "gyN3ZyEXM8be"
      },
      "source": [
        "# Now lets do it with CART"
      ]
    },
    {
      "cell_type": "code",
      "metadata": {
        "id": "aE2IP5w-zH1l",
        "colab": {
          "base_uri": "https://localhost:8080/"
        },
        "outputId": "1d07ab52-0fb1-444a-9477-90ff9e986a4b"
      },
      "source": [
        "model_gini = DecisionTreeClassifier(criterion=\"gini\",max_depth=3)\n",
        "model_gini.fit(x_train,y_train)"
      ],
      "execution_count": 17,
      "outputs": [
        {
          "output_type": "execute_result",
          "data": {
            "text/plain": [
              "DecisionTreeClassifier(ccp_alpha=0.0, class_weight=None, criterion='gini',\n",
              "                       max_depth=3, max_features=None, max_leaf_nodes=None,\n",
              "                       min_impurity_decrease=0.0, min_impurity_split=None,\n",
              "                       min_samples_leaf=1, min_samples_split=2,\n",
              "                       min_weight_fraction_leaf=0.0, presort='deprecated',\n",
              "                       random_state=None, splitter='best')"
            ]
          },
          "metadata": {},
          "execution_count": 17
        }
      ]
    },
    {
      "cell_type": "code",
      "metadata": {
        "colab": {
          "base_uri": "https://localhost:8080/"
        },
        "id": "UMuwlwjkNVQW",
        "outputId": "de5ed79d-0032-40af-a217-bee60cf631cb"
      },
      "source": [
        "pred = model.predict(x_test)\n",
        "np.mean(y_test==pred)"
      ],
      "execution_count": 18,
      "outputs": [
        {
          "output_type": "execute_result",
          "data": {
            "text/plain": [
              "1.0"
            ]
          },
          "metadata": {},
          "execution_count": 18
        }
      ]
    },
    {
      "cell_type": "markdown",
      "metadata": {
        "id": "2E9MV5M2djsY"
      },
      "source": [
        "#Example of Regression"
      ]
    },
    {
      "cell_type": "code",
      "metadata": {
        "id": "ezJpvkVkdde5"
      },
      "source": [
        "from sklearn.tree import DecisionTreeRegressor\n",
        "array = iris.values"
      ],
      "execution_count": 19,
      "outputs": []
    },
    {
      "cell_type": "code",
      "metadata": {
        "colab": {
          "base_uri": "https://localhost:8080/"
        },
        "id": "LFhPzhfgqgN3",
        "outputId": "a0449d46-a7f4-4803-fc9d-4da92e90e498"
      },
      "source": [
        "array"
      ],
      "execution_count": 20,
      "outputs": [
        {
          "output_type": "execute_result",
          "data": {
            "text/plain": [
              "array([[5.1, 3.5, 1.4, 0.2, 'Setosa', 0],\n",
              "       [4.9, 3.0, 1.4, 0.2, 'Setosa', 0],\n",
              "       [4.7, 3.2, 1.3, 0.2, 'Setosa', 0],\n",
              "       [4.6, 3.1, 1.5, 0.2, 'Setosa', 0],\n",
              "       [5.0, 3.6, 1.4, 0.2, 'Setosa', 0],\n",
              "       [5.4, 3.9, 1.7, 0.4, 'Setosa', 0],\n",
              "       [4.6, 3.4, 1.4, 0.3, 'Setosa', 0],\n",
              "       [5.0, 3.4, 1.5, 0.2, 'Setosa', 0],\n",
              "       [4.4, 2.9, 1.4, 0.2, 'Setosa', 0],\n",
              "       [4.9, 3.1, 1.5, 0.1, 'Setosa', 0],\n",
              "       [5.4, 3.7, 1.5, 0.2, 'Setosa', 0],\n",
              "       [4.8, 3.4, 1.6, 0.2, 'Setosa', 0],\n",
              "       [4.8, 3.0, 1.4, 0.1, 'Setosa', 0],\n",
              "       [4.3, 3.0, 1.1, 0.1, 'Setosa', 0],\n",
              "       [5.8, 4.0, 1.2, 0.2, 'Setosa', 0],\n",
              "       [5.7, 4.4, 1.5, 0.4, 'Setosa', 0],\n",
              "       [5.4, 3.9, 1.3, 0.4, 'Setosa', 0],\n",
              "       [5.1, 3.5, 1.4, 0.3, 'Setosa', 0],\n",
              "       [5.7, 3.8, 1.7, 0.3, 'Setosa', 0],\n",
              "       [5.1, 3.8, 1.5, 0.3, 'Setosa', 0],\n",
              "       [5.4, 3.4, 1.7, 0.2, 'Setosa', 0],\n",
              "       [5.1, 3.7, 1.5, 0.4, 'Setosa', 0],\n",
              "       [4.6, 3.6, 1.0, 0.2, 'Setosa', 0],\n",
              "       [5.1, 3.3, 1.7, 0.5, 'Setosa', 0],\n",
              "       [4.8, 3.4, 1.9, 0.2, 'Setosa', 0],\n",
              "       [5.0, 3.0, 1.6, 0.2, 'Setosa', 0],\n",
              "       [5.0, 3.4, 1.6, 0.4, 'Setosa', 0],\n",
              "       [5.2, 3.5, 1.5, 0.2, 'Setosa', 0],\n",
              "       [5.2, 3.4, 1.4, 0.2, 'Setosa', 0],\n",
              "       [4.7, 3.2, 1.6, 0.2, 'Setosa', 0],\n",
              "       [4.8, 3.1, 1.6, 0.2, 'Setosa', 0],\n",
              "       [5.4, 3.4, 1.5, 0.4, 'Setosa', 0],\n",
              "       [5.2, 4.1, 1.5, 0.1, 'Setosa', 0],\n",
              "       [5.5, 4.2, 1.4, 0.2, 'Setosa', 0],\n",
              "       [4.9, 3.1, 1.5, 0.2, 'Setosa', 0],\n",
              "       [5.0, 3.2, 1.2, 0.2, 'Setosa', 0],\n",
              "       [5.5, 3.5, 1.3, 0.2, 'Setosa', 0],\n",
              "       [4.9, 3.6, 1.4, 0.1, 'Setosa', 0],\n",
              "       [4.4, 3.0, 1.3, 0.2, 'Setosa', 0],\n",
              "       [5.1, 3.4, 1.5, 0.2, 'Setosa', 0],\n",
              "       [5.0, 3.5, 1.3, 0.3, 'Setosa', 0],\n",
              "       [4.5, 2.3, 1.3, 0.3, 'Setosa', 0],\n",
              "       [4.4, 3.2, 1.3, 0.2, 'Setosa', 0],\n",
              "       [5.0, 3.5, 1.6, 0.6, 'Setosa', 0],\n",
              "       [5.1, 3.8, 1.9, 0.4, 'Setosa', 0],\n",
              "       [4.8, 3.0, 1.4, 0.3, 'Setosa', 0],\n",
              "       [5.1, 3.8, 1.6, 0.2, 'Setosa', 0],\n",
              "       [4.6, 3.2, 1.4, 0.2, 'Setosa', 0],\n",
              "       [5.3, 3.7, 1.5, 0.2, 'Setosa', 0],\n",
              "       [5.0, 3.3, 1.4, 0.2, 'Setosa', 0],\n",
              "       [7.0, 3.2, 4.7, 1.4, 'Versicolor', 1],\n",
              "       [6.4, 3.2, 4.5, 1.5, 'Versicolor', 1],\n",
              "       [6.9, 3.1, 4.9, 1.5, 'Versicolor', 1],\n",
              "       [5.5, 2.3, 4.0, 1.3, 'Versicolor', 1],\n",
              "       [6.5, 2.8, 4.6, 1.5, 'Versicolor', 1],\n",
              "       [5.7, 2.8, 4.5, 1.3, 'Versicolor', 1],\n",
              "       [6.3, 3.3, 4.7, 1.6, 'Versicolor', 1],\n",
              "       [4.9, 2.4, 3.3, 1.0, 'Versicolor', 1],\n",
              "       [6.6, 2.9, 4.6, 1.3, 'Versicolor', 1],\n",
              "       [5.2, 2.7, 3.9, 1.4, 'Versicolor', 1],\n",
              "       [5.0, 2.0, 3.5, 1.0, 'Versicolor', 1],\n",
              "       [5.9, 3.0, 4.2, 1.5, 'Versicolor', 1],\n",
              "       [6.0, 2.2, 4.0, 1.0, 'Versicolor', 1],\n",
              "       [6.1, 2.9, 4.7, 1.4, 'Versicolor', 1],\n",
              "       [5.6, 2.9, 3.6, 1.3, 'Versicolor', 1],\n",
              "       [6.7, 3.1, 4.4, 1.4, 'Versicolor', 1],\n",
              "       [5.6, 3.0, 4.5, 1.5, 'Versicolor', 1],\n",
              "       [5.8, 2.7, 4.1, 1.0, 'Versicolor', 1],\n",
              "       [6.2, 2.2, 4.5, 1.5, 'Versicolor', 1],\n",
              "       [5.6, 2.5, 3.9, 1.1, 'Versicolor', 1],\n",
              "       [5.9, 3.2, 4.8, 1.8, 'Versicolor', 1],\n",
              "       [6.1, 2.8, 4.0, 1.3, 'Versicolor', 1],\n",
              "       [6.3, 2.5, 4.9, 1.5, 'Versicolor', 1],\n",
              "       [6.1, 2.8, 4.7, 1.2, 'Versicolor', 1],\n",
              "       [6.4, 2.9, 4.3, 1.3, 'Versicolor', 1],\n",
              "       [6.6, 3.0, 4.4, 1.4, 'Versicolor', 1],\n",
              "       [6.8, 2.8, 4.8, 1.4, 'Versicolor', 1],\n",
              "       [6.7, 3.0, 5.0, 1.7, 'Versicolor', 1],\n",
              "       [6.0, 2.9, 4.5, 1.5, 'Versicolor', 1],\n",
              "       [5.7, 2.6, 3.5, 1.0, 'Versicolor', 1],\n",
              "       [5.5, 2.4, 3.8, 1.1, 'Versicolor', 1],\n",
              "       [5.5, 2.4, 3.7, 1.0, 'Versicolor', 1],\n",
              "       [5.8, 2.7, 3.9, 1.2, 'Versicolor', 1],\n",
              "       [6.0, 2.7, 5.1, 1.6, 'Versicolor', 1],\n",
              "       [5.4, 3.0, 4.5, 1.5, 'Versicolor', 1],\n",
              "       [6.0, 3.4, 4.5, 1.6, 'Versicolor', 1],\n",
              "       [6.7, 3.1, 4.7, 1.5, 'Versicolor', 1],\n",
              "       [6.3, 2.3, 4.4, 1.3, 'Versicolor', 1],\n",
              "       [5.6, 3.0, 4.1, 1.3, 'Versicolor', 1],\n",
              "       [5.5, 2.5, 4.0, 1.3, 'Versicolor', 1],\n",
              "       [5.5, 2.6, 4.4, 1.2, 'Versicolor', 1],\n",
              "       [6.1, 3.0, 4.6, 1.4, 'Versicolor', 1],\n",
              "       [5.8, 2.6, 4.0, 1.2, 'Versicolor', 1],\n",
              "       [5.0, 2.3, 3.3, 1.0, 'Versicolor', 1],\n",
              "       [5.6, 2.7, 4.2, 1.3, 'Versicolor', 1],\n",
              "       [5.7, 3.0, 4.2, 1.2, 'Versicolor', 1],\n",
              "       [5.7, 2.9, 4.2, 1.3, 'Versicolor', 1],\n",
              "       [6.2, 2.9, 4.3, 1.3, 'Versicolor', 1],\n",
              "       [5.1, 2.5, 3.0, 1.1, 'Versicolor', 1],\n",
              "       [5.7, 2.8, 4.1, 1.3, 'Versicolor', 1],\n",
              "       [6.3, 3.3, 6.0, 2.5, 'Virginica', 2],\n",
              "       [5.8, 2.7, 5.1, 1.9, 'Virginica', 2],\n",
              "       [7.1, 3.0, 5.9, 2.1, 'Virginica', 2],\n",
              "       [6.3, 2.9, 5.6, 1.8, 'Virginica', 2],\n",
              "       [6.5, 3.0, 5.8, 2.2, 'Virginica', 2],\n",
              "       [7.6, 3.0, 6.6, 2.1, 'Virginica', 2],\n",
              "       [4.9, 2.5, 4.5, 1.7, 'Virginica', 2],\n",
              "       [7.3, 2.9, 6.3, 1.8, 'Virginica', 2],\n",
              "       [6.7, 2.5, 5.8, 1.8, 'Virginica', 2],\n",
              "       [7.2, 3.6, 6.1, 2.5, 'Virginica', 2],\n",
              "       [6.5, 3.2, 5.1, 2.0, 'Virginica', 2],\n",
              "       [6.4, 2.7, 5.3, 1.9, 'Virginica', 2],\n",
              "       [6.8, 3.0, 5.5, 2.1, 'Virginica', 2],\n",
              "       [5.7, 2.5, 5.0, 2.0, 'Virginica', 2],\n",
              "       [5.8, 2.8, 5.1, 2.4, 'Virginica', 2],\n",
              "       [6.4, 3.2, 5.3, 2.3, 'Virginica', 2],\n",
              "       [6.5, 3.0, 5.5, 1.8, 'Virginica', 2],\n",
              "       [7.7, 3.8, 6.7, 2.2, 'Virginica', 2],\n",
              "       [7.7, 2.6, 6.9, 2.3, 'Virginica', 2],\n",
              "       [6.0, 2.2, 5.0, 1.5, 'Virginica', 2],\n",
              "       [6.9, 3.2, 5.7, 2.3, 'Virginica', 2],\n",
              "       [5.6, 2.8, 4.9, 2.0, 'Virginica', 2],\n",
              "       [7.7, 2.8, 6.7, 2.0, 'Virginica', 2],\n",
              "       [6.3, 2.7, 4.9, 1.8, 'Virginica', 2],\n",
              "       [6.7, 3.3, 5.7, 2.1, 'Virginica', 2],\n",
              "       [7.2, 3.2, 6.0, 1.8, 'Virginica', 2],\n",
              "       [6.2, 2.8, 4.8, 1.8, 'Virginica', 2],\n",
              "       [6.1, 3.0, 4.9, 1.8, 'Virginica', 2],\n",
              "       [6.4, 2.8, 5.6, 2.1, 'Virginica', 2],\n",
              "       [7.2, 3.0, 5.8, 1.6, 'Virginica', 2],\n",
              "       [7.4, 2.8, 6.1, 1.9, 'Virginica', 2],\n",
              "       [7.9, 3.8, 6.4, 2.0, 'Virginica', 2],\n",
              "       [6.4, 2.8, 5.6, 2.2, 'Virginica', 2],\n",
              "       [6.3, 2.8, 5.1, 1.5, 'Virginica', 2],\n",
              "       [6.1, 2.6, 5.6, 1.4, 'Virginica', 2],\n",
              "       [7.7, 3.0, 6.1, 2.3, 'Virginica', 2],\n",
              "       [6.3, 3.4, 5.6, 2.4, 'Virginica', 2],\n",
              "       [6.4, 3.1, 5.5, 1.8, 'Virginica', 2],\n",
              "       [6.0, 3.0, 4.8, 1.8, 'Virginica', 2],\n",
              "       [6.9, 3.1, 5.4, 2.1, 'Virginica', 2],\n",
              "       [6.7, 3.1, 5.6, 2.4, 'Virginica', 2],\n",
              "       [6.9, 3.1, 5.1, 2.3, 'Virginica', 2],\n",
              "       [5.8, 2.7, 5.1, 1.9, 'Virginica', 2],\n",
              "       [6.8, 3.2, 5.9, 2.3, 'Virginica', 2],\n",
              "       [6.7, 3.3, 5.7, 2.5, 'Virginica', 2],\n",
              "       [6.7, 3.0, 5.2, 2.3, 'Virginica', 2],\n",
              "       [6.3, 2.5, 5.0, 1.9, 'Virginica', 2],\n",
              "       [6.5, 3.0, 5.2, 2.0, 'Virginica', 2],\n",
              "       [6.2, 3.4, 5.4, 2.3, 'Virginica', 2],\n",
              "       [5.9, 3.0, 5.1, 1.8, 'Virginica', 2]], dtype=object)"
            ]
          },
          "metadata": {},
          "execution_count": 20
        }
      ]
    },
    {
      "cell_type": "code",
      "metadata": {
        "id": "h7yV8Dk5qhLl"
      },
      "source": [
        "x = array[:,0:3]\n",
        "y = array[:,3]"
      ],
      "execution_count": 21,
      "outputs": []
    },
    {
      "cell_type": "code",
      "metadata": {
        "id": "bdaSpAfGqz9e"
      },
      "source": [
        "x_train,x_test,y_train,y_test = train_test_split(x,y,test_size = 0.33,random_state= 1)"
      ],
      "execution_count": 22,
      "outputs": []
    },
    {
      "cell_type": "code",
      "metadata": {
        "colab": {
          "base_uri": "https://localhost:8080/"
        },
        "id": "kjS6nyy8rmAn",
        "outputId": "773829f9-2671-4a2b-cd16-776932d66d3b"
      },
      "source": [
        "model = DecisionTreeRegressor()\n",
        "model.fit(x_train,y_train)"
      ],
      "execution_count": 23,
      "outputs": [
        {
          "output_type": "execute_result",
          "data": {
            "text/plain": [
              "DecisionTreeRegressor(ccp_alpha=0.0, criterion='mse', max_depth=None,\n",
              "                      max_features=None, max_leaf_nodes=None,\n",
              "                      min_impurity_decrease=0.0, min_impurity_split=None,\n",
              "                      min_samples_leaf=1, min_samples_split=2,\n",
              "                      min_weight_fraction_leaf=0.0, presort='deprecated',\n",
              "                      random_state=None, splitter='best')"
            ]
          },
          "metadata": {},
          "execution_count": 23
        }
      ]
    },
    {
      "cell_type": "code",
      "metadata": {
        "colab": {
          "base_uri": "https://localhost:8080/"
        },
        "id": "QsyPe8tWr1ab",
        "outputId": "62031390-918c-4f61-944c-521ded2835ed"
      },
      "source": [
        "#to find the accuracy\n",
        "model.score(x_test,y_test)"
      ],
      "execution_count": 24,
      "outputs": [
        {
          "output_type": "execute_result",
          "data": {
            "text/plain": [
              "0.875810421419138"
            ]
          },
          "metadata": {},
          "execution_count": 24
        }
      ]
    },
    {
      "cell_type": "code",
      "metadata": {
        "id": "FxFtO7hgg7MQ"
      },
      "source": [
        ""
      ],
      "execution_count": null,
      "outputs": []
    }
  ]
}