{
  "nbformat": 4,
  "nbformat_minor": 0,
  "metadata": {
    "colab": {
      "name": "AsterDM.ipynb",
      "provenance": [],
      "authorship_tag": "ABX9TyOvA7xfQrsPdMPFB7cy+R/d",
      "include_colab_link": true
    },
    "kernelspec": {
      "name": "python3",
      "display_name": "Python 3"
    },
    "language_info": {
      "name": "python"
    }
  },
  "cells": [
    {
      "cell_type": "markdown",
      "metadata": {
        "id": "view-in-github",
        "colab_type": "text"
      },
      "source": [
        "<a href=\"https://colab.research.google.com/github/Aashrit77/Python/blob/main/AsterDM.ipynb\" target=\"_parent\"><img src=\"https://colab.research.google.com/assets/colab-badge.svg\" alt=\"Open In Colab\"/></a>"
      ]
    },
    {
      "cell_type": "code",
      "metadata": {
        "id": "mYGxUqGHzTxa"
      },
      "source": [
        "import pandas as pd\n",
        "import numpy as np\n",
        "import matplotlib.pyplot as plt\n",
        "import seaborn as sns\n",
        "%matplotlib inline"
      ],
      "execution_count": 1,
      "outputs": []
    },
    {
      "cell_type": "code",
      "metadata": {
        "id": "mxsUmVcFzr1O"
      },
      "source": [
        "aster = pd.read_csv(\"/content/540975.csv\")"
      ],
      "execution_count": 4,
      "outputs": []
    },
    {
      "cell_type": "code",
      "metadata": {
        "colab": {
          "base_uri": "https://localhost:8080/",
          "height": 438
        },
        "id": "h7laMRmuz90v",
        "outputId": "9ed6943f-e079-49a1-b0f2-d4de24c72e26"
      },
      "source": [
        "aster.head()"
      ],
      "execution_count": 5,
      "outputs": [
        {
          "output_type": "execute_result",
          "data": {
            "text/html": [
              "<div>\n",
              "<style scoped>\n",
              "    .dataframe tbody tr th:only-of-type {\n",
              "        vertical-align: middle;\n",
              "    }\n",
              "\n",
              "    .dataframe tbody tr th {\n",
              "        vertical-align: top;\n",
              "    }\n",
              "\n",
              "    .dataframe thead th {\n",
              "        text-align: right;\n",
              "    }\n",
              "</style>\n",
              "<table border=\"1\" class=\"dataframe\">\n",
              "  <thead>\n",
              "    <tr style=\"text-align: right;\">\n",
              "      <th></th>\n",
              "      <th>Date</th>\n",
              "      <th>Open Price</th>\n",
              "      <th>High Price</th>\n",
              "      <th>Low Price</th>\n",
              "      <th>Close Price</th>\n",
              "      <th>WAP</th>\n",
              "      <th>No.of Shares</th>\n",
              "      <th>No. of Trades</th>\n",
              "      <th>Total Turnover (Rs.)</th>\n",
              "      <th>Deliverable Quantity</th>\n",
              "      <th>% Deli. Qty to Traded Qty</th>\n",
              "      <th>Spread High-Low</th>\n",
              "      <th>Spread Close-Open</th>\n",
              "      <th>Unnamed: 13</th>\n",
              "      <th>Unnamed: 14</th>\n",
              "      <th>Unnamed: 15</th>\n",
              "    </tr>\n",
              "  </thead>\n",
              "  <tbody>\n",
              "    <tr>\n",
              "      <th>0</th>\n",
              "      <td>01-01-2021</td>\n",
              "      <td>166.75</td>\n",
              "      <td>168.0</td>\n",
              "      <td>164.50</td>\n",
              "      <td>167.3</td>\n",
              "      <td>166.191744</td>\n",
              "      <td>5596</td>\n",
              "      <td>275</td>\n",
              "      <td>930009</td>\n",
              "      <td>3854</td>\n",
              "      <td>68.87</td>\n",
              "      <td>3.50</td>\n",
              "      <td>0.55</td>\n",
              "      <td>NaN</td>\n",
              "      <td>NaN</td>\n",
              "      <td>NaN</td>\n",
              "    </tr>\n",
              "    <tr>\n",
              "      <th>1</th>\n",
              "      <td>31-12-2020</td>\n",
              "      <td>168.00</td>\n",
              "      <td>168.0</td>\n",
              "      <td>165.40</td>\n",
              "      <td>166.0</td>\n",
              "      <td>167.108338</td>\n",
              "      <td>11178</td>\n",
              "      <td>245</td>\n",
              "      <td>1867937</td>\n",
              "      <td>8285</td>\n",
              "      <td>74.12</td>\n",
              "      <td>2.60</td>\n",
              "      <td>-2.00</td>\n",
              "      <td>NaN</td>\n",
              "      <td>NaN</td>\n",
              "      <td>NaN</td>\n",
              "    </tr>\n",
              "    <tr>\n",
              "      <th>2</th>\n",
              "      <td>30-12-2020</td>\n",
              "      <td>165.50</td>\n",
              "      <td>167.6</td>\n",
              "      <td>163.35</td>\n",
              "      <td>167.0</td>\n",
              "      <td>165.865082</td>\n",
              "      <td>3491</td>\n",
              "      <td>218</td>\n",
              "      <td>579035</td>\n",
              "      <td>2183</td>\n",
              "      <td>62.53</td>\n",
              "      <td>4.25</td>\n",
              "      <td>1.50</td>\n",
              "      <td>NaN</td>\n",
              "      <td>NaN</td>\n",
              "      <td>NaN</td>\n",
              "    </tr>\n",
              "    <tr>\n",
              "      <th>3</th>\n",
              "      <td>29-12-2020</td>\n",
              "      <td>166.00</td>\n",
              "      <td>166.9</td>\n",
              "      <td>163.05</td>\n",
              "      <td>164.3</td>\n",
              "      <td>165.278321</td>\n",
              "      <td>5932</td>\n",
              "      <td>170</td>\n",
              "      <td>980431</td>\n",
              "      <td>3908</td>\n",
              "      <td>65.88</td>\n",
              "      <td>3.85</td>\n",
              "      <td>-1.70</td>\n",
              "      <td>NaN</td>\n",
              "      <td>NaN</td>\n",
              "      <td>NaN</td>\n",
              "    </tr>\n",
              "    <tr>\n",
              "      <th>4</th>\n",
              "      <td>28-12-2020</td>\n",
              "      <td>165.20</td>\n",
              "      <td>168.6</td>\n",
              "      <td>165.20</td>\n",
              "      <td>165.5</td>\n",
              "      <td>166.132475</td>\n",
              "      <td>9398</td>\n",
              "      <td>403</td>\n",
              "      <td>1561313</td>\n",
              "      <td>5469</td>\n",
              "      <td>58.19</td>\n",
              "      <td>3.40</td>\n",
              "      <td>0.30</td>\n",
              "      <td>NaN</td>\n",
              "      <td>NaN</td>\n",
              "      <td>01-Jan-21</td>\n",
              "    </tr>\n",
              "  </tbody>\n",
              "</table>\n",
              "</div>"
            ],
            "text/plain": [
              "         Date  Open Price  High Price  ...  Unnamed: 13  Unnamed: 14  Unnamed: 15\n",
              "0  01-01-2021      166.75       168.0  ...          NaN          NaN          NaN\n",
              "1  31-12-2020      168.00       168.0  ...          NaN          NaN          NaN\n",
              "2  30-12-2020      165.50       167.6  ...          NaN          NaN          NaN\n",
              "3  29-12-2020      166.00       166.9  ...          NaN          NaN          NaN\n",
              "4  28-12-2020      165.20       168.6  ...          NaN          NaN    01-Jan-21\n",
              "\n",
              "[5 rows x 16 columns]"
            ]
          },
          "metadata": {},
          "execution_count": 5
        }
      ]
    },
    {
      "cell_type": "code",
      "metadata": {
        "id": "t6SKKowIz__w"
      },
      "source": [
        "aster = aster[[\"Date\",\"Close Price\"]]"
      ],
      "execution_count": 6,
      "outputs": []
    },
    {
      "cell_type": "code",
      "metadata": {
        "colab": {
          "base_uri": "https://localhost:8080/",
          "height": 417
        },
        "id": "K46Lmhnl0gxR",
        "outputId": "61cb7677-5c82-4089-9568-7ce69a103d66"
      },
      "source": [
        "aster"
      ],
      "execution_count": 7,
      "outputs": [
        {
          "output_type": "execute_result",
          "data": {
            "text/html": [
              "<div>\n",
              "<style scoped>\n",
              "    .dataframe tbody tr th:only-of-type {\n",
              "        vertical-align: middle;\n",
              "    }\n",
              "\n",
              "    .dataframe tbody tr th {\n",
              "        vertical-align: top;\n",
              "    }\n",
              "\n",
              "    .dataframe thead th {\n",
              "        text-align: right;\n",
              "    }\n",
              "</style>\n",
              "<table border=\"1\" class=\"dataframe\">\n",
              "  <thead>\n",
              "    <tr style=\"text-align: right;\">\n",
              "      <th></th>\n",
              "      <th>Date</th>\n",
              "      <th>Close Price</th>\n",
              "    </tr>\n",
              "  </thead>\n",
              "  <tbody>\n",
              "    <tr>\n",
              "      <th>0</th>\n",
              "      <td>01-01-2021</td>\n",
              "      <td>167.30</td>\n",
              "    </tr>\n",
              "    <tr>\n",
              "      <th>1</th>\n",
              "      <td>31-12-2020</td>\n",
              "      <td>166.00</td>\n",
              "    </tr>\n",
              "    <tr>\n",
              "      <th>2</th>\n",
              "      <td>30-12-2020</td>\n",
              "      <td>167.00</td>\n",
              "    </tr>\n",
              "    <tr>\n",
              "      <th>3</th>\n",
              "      <td>29-12-2020</td>\n",
              "      <td>164.30</td>\n",
              "    </tr>\n",
              "    <tr>\n",
              "      <th>4</th>\n",
              "      <td>28-12-2020</td>\n",
              "      <td>165.50</td>\n",
              "    </tr>\n",
              "    <tr>\n",
              "      <th>...</th>\n",
              "      <td>...</td>\n",
              "      <td>...</td>\n",
              "    </tr>\n",
              "    <tr>\n",
              "      <th>701</th>\n",
              "      <td>05-03-2018</td>\n",
              "      <td>169.55</td>\n",
              "    </tr>\n",
              "    <tr>\n",
              "      <th>702</th>\n",
              "      <td>01-03-2018</td>\n",
              "      <td>172.40</td>\n",
              "    </tr>\n",
              "    <tr>\n",
              "      <th>703</th>\n",
              "      <td>28-02-2018</td>\n",
              "      <td>172.65</td>\n",
              "    </tr>\n",
              "    <tr>\n",
              "      <th>704</th>\n",
              "      <td>27-02-2018</td>\n",
              "      <td>175.15</td>\n",
              "    </tr>\n",
              "    <tr>\n",
              "      <th>705</th>\n",
              "      <td>26-02-2018</td>\n",
              "      <td>179.85</td>\n",
              "    </tr>\n",
              "  </tbody>\n",
              "</table>\n",
              "<p>706 rows × 2 columns</p>\n",
              "</div>"
            ],
            "text/plain": [
              "           Date  Close Price\n",
              "0    01-01-2021       167.30\n",
              "1    31-12-2020       166.00\n",
              "2    30-12-2020       167.00\n",
              "3    29-12-2020       164.30\n",
              "4    28-12-2020       165.50\n",
              "..          ...          ...\n",
              "701  05-03-2018       169.55\n",
              "702  01-03-2018       172.40\n",
              "703  28-02-2018       172.65\n",
              "704  27-02-2018       175.15\n",
              "705  26-02-2018       179.85\n",
              "\n",
              "[706 rows x 2 columns]"
            ]
          },
          "metadata": {},
          "execution_count": 7
        }
      ]
    },
    {
      "cell_type": "code",
      "metadata": {
        "id": "AHvigZd60h3q"
      },
      "source": [
        "aster = aster.set_index(pd.DatetimeIndex(aster[\"Date\"]))"
      ],
      "execution_count": 8,
      "outputs": []
    },
    {
      "cell_type": "code",
      "metadata": {
        "colab": {
          "base_uri": "https://localhost:8080/",
          "height": 447
        },
        "id": "-yJEu8f40rmD",
        "outputId": "ce124362-58aa-4589-99c0-883b697d4911"
      },
      "source": [
        "aster"
      ],
      "execution_count": 9,
      "outputs": [
        {
          "output_type": "execute_result",
          "data": {
            "text/html": [
              "<div>\n",
              "<style scoped>\n",
              "    .dataframe tbody tr th:only-of-type {\n",
              "        vertical-align: middle;\n",
              "    }\n",
              "\n",
              "    .dataframe tbody tr th {\n",
              "        vertical-align: top;\n",
              "    }\n",
              "\n",
              "    .dataframe thead th {\n",
              "        text-align: right;\n",
              "    }\n",
              "</style>\n",
              "<table border=\"1\" class=\"dataframe\">\n",
              "  <thead>\n",
              "    <tr style=\"text-align: right;\">\n",
              "      <th></th>\n",
              "      <th>Date</th>\n",
              "      <th>Close Price</th>\n",
              "    </tr>\n",
              "    <tr>\n",
              "      <th>Date</th>\n",
              "      <th></th>\n",
              "      <th></th>\n",
              "    </tr>\n",
              "  </thead>\n",
              "  <tbody>\n",
              "    <tr>\n",
              "      <th>2021-01-01</th>\n",
              "      <td>01-01-2021</td>\n",
              "      <td>167.30</td>\n",
              "    </tr>\n",
              "    <tr>\n",
              "      <th>2020-12-31</th>\n",
              "      <td>31-12-2020</td>\n",
              "      <td>166.00</td>\n",
              "    </tr>\n",
              "    <tr>\n",
              "      <th>2020-12-30</th>\n",
              "      <td>30-12-2020</td>\n",
              "      <td>167.00</td>\n",
              "    </tr>\n",
              "    <tr>\n",
              "      <th>2020-12-29</th>\n",
              "      <td>29-12-2020</td>\n",
              "      <td>164.30</td>\n",
              "    </tr>\n",
              "    <tr>\n",
              "      <th>2020-12-28</th>\n",
              "      <td>28-12-2020</td>\n",
              "      <td>165.50</td>\n",
              "    </tr>\n",
              "    <tr>\n",
              "      <th>...</th>\n",
              "      <td>...</td>\n",
              "      <td>...</td>\n",
              "    </tr>\n",
              "    <tr>\n",
              "      <th>2018-05-03</th>\n",
              "      <td>05-03-2018</td>\n",
              "      <td>169.55</td>\n",
              "    </tr>\n",
              "    <tr>\n",
              "      <th>2018-01-03</th>\n",
              "      <td>01-03-2018</td>\n",
              "      <td>172.40</td>\n",
              "    </tr>\n",
              "    <tr>\n",
              "      <th>2018-02-28</th>\n",
              "      <td>28-02-2018</td>\n",
              "      <td>172.65</td>\n",
              "    </tr>\n",
              "    <tr>\n",
              "      <th>2018-02-27</th>\n",
              "      <td>27-02-2018</td>\n",
              "      <td>175.15</td>\n",
              "    </tr>\n",
              "    <tr>\n",
              "      <th>2018-02-26</th>\n",
              "      <td>26-02-2018</td>\n",
              "      <td>179.85</td>\n",
              "    </tr>\n",
              "  </tbody>\n",
              "</table>\n",
              "<p>706 rows × 2 columns</p>\n",
              "</div>"
            ],
            "text/plain": [
              "                  Date  Close Price\n",
              "Date                               \n",
              "2021-01-01  01-01-2021       167.30\n",
              "2020-12-31  31-12-2020       166.00\n",
              "2020-12-30  30-12-2020       167.00\n",
              "2020-12-29  29-12-2020       164.30\n",
              "2020-12-28  28-12-2020       165.50\n",
              "...                ...          ...\n",
              "2018-05-03  05-03-2018       169.55\n",
              "2018-01-03  01-03-2018       172.40\n",
              "2018-02-28  28-02-2018       172.65\n",
              "2018-02-27  27-02-2018       175.15\n",
              "2018-02-26  26-02-2018       179.85\n",
              "\n",
              "[706 rows x 2 columns]"
            ]
          },
          "metadata": {},
          "execution_count": 9
        }
      ]
    },
    {
      "cell_type": "code",
      "metadata": {
        "colab": {
          "base_uri": "https://localhost:8080/",
          "height": 296
        },
        "id": "0hj2eHC90tDQ",
        "outputId": "3124863c-da33-4a22-9952-dfd8af4ec5b9"
      },
      "source": [
        "plt.plot(aster[\"Close Price\"])\n",
        "plt.xlabel(\"Time\")\n",
        "plt.ylabel(\"Close\")"
      ],
      "execution_count": 11,
      "outputs": [
        {
          "output_type": "execute_result",
          "data": {
            "text/plain": [
              "Text(0, 0.5, 'Close')"
            ]
          },
          "metadata": {},
          "execution_count": 11
        },
        {
          "output_type": "display_data",
          "data": {
            "image/png": "[encoded data removed]",
            "text/plain": [
              "<Figure size 432x288 with 1 Axes>"
            ]
          },
          "metadata": {
            "needs_background": "light"
          }
        }
      ]
    },
    {
      "cell_type": "code",
      "metadata": {
        "id": "B9rH_P4204uf"
      },
      "source": [
        "aster[\"Gain\"] = aster[\"Close Price\"].pct_change(periods=1)"
      ],
      "execution_count": 13,
      "outputs": []
    },
    {
      "cell_type": "code",
      "metadata": {
        "colab": {
          "base_uri": "https://localhost:8080/",
          "height": 447
        },
        "id": "XGEv431R1pjO",
        "outputId": "96c58961-552b-4fc8-8102-de5668d9f152"
      },
      "source": [
        "aster"
      ],
      "execution_count": 14,
      "outputs": [
        {
          "output_type": "execute_result",
          "data": {
            "text/html": [
              "<div>\n",
              "<style scoped>\n",
              "    .dataframe tbody tr th:only-of-type {\n",
              "        vertical-align: middle;\n",
              "    }\n",
              "\n",
              "    .dataframe tbody tr th {\n",
              "        vertical-align: top;\n",
              "    }\n",
              "\n",
              "    .dataframe thead th {\n",
              "        text-align: right;\n",
              "    }\n",
              "</style>\n",
              "<table border=\"1\" class=\"dataframe\">\n",
              "  <thead>\n",
              "    <tr style=\"text-align: right;\">\n",
              "      <th></th>\n",
              "      <th>Date</th>\n",
              "      <th>Close Price</th>\n",
              "      <th>Gain</th>\n",
              "    </tr>\n",
              "    <tr>\n",
              "      <th>Date</th>\n",
              "      <th></th>\n",
              "      <th></th>\n",
              "      <th></th>\n",
              "    </tr>\n",
              "  </thead>\n",
              "  <tbody>\n",
              "    <tr>\n",
              "      <th>2021-01-01</th>\n",
              "      <td>01-01-2021</td>\n",
              "      <td>167.30</td>\n",
              "      <td>NaN</td>\n",
              "    </tr>\n",
              "    <tr>\n",
              "      <th>2020-12-31</th>\n",
              "      <td>31-12-2020</td>\n",
              "      <td>166.00</td>\n",
              "      <td>-0.007770</td>\n",
              "    </tr>\n",
              "    <tr>\n",
              "      <th>2020-12-30</th>\n",
              "      <td>30-12-2020</td>\n",
              "      <td>167.00</td>\n",
              "      <td>0.006024</td>\n",
              "    </tr>\n",
              "    <tr>\n",
              "      <th>2020-12-29</th>\n",
              "      <td>29-12-2020</td>\n",
              "      <td>164.30</td>\n",
              "      <td>-0.016168</td>\n",
              "    </tr>\n",
              "    <tr>\n",
              "      <th>2020-12-28</th>\n",
              "      <td>28-12-2020</td>\n",
              "      <td>165.50</td>\n",
              "      <td>0.007304</td>\n",
              "    </tr>\n",
              "    <tr>\n",
              "      <th>...</th>\n",
              "      <td>...</td>\n",
              "      <td>...</td>\n",
              "      <td>...</td>\n",
              "    </tr>\n",
              "    <tr>\n",
              "      <th>2018-05-03</th>\n",
              "      <td>05-03-2018</td>\n",
              "      <td>169.55</td>\n",
              "      <td>-0.004112</td>\n",
              "    </tr>\n",
              "    <tr>\n",
              "      <th>2018-01-03</th>\n",
              "      <td>01-03-2018</td>\n",
              "      <td>172.40</td>\n",
              "      <td>0.016809</td>\n",
              "    </tr>\n",
              "    <tr>\n",
              "      <th>2018-02-28</th>\n",
              "      <td>28-02-2018</td>\n",
              "      <td>172.65</td>\n",
              "      <td>0.001450</td>\n",
              "    </tr>\n",
              "    <tr>\n",
              "      <th>2018-02-27</th>\n",
              "      <td>27-02-2018</td>\n",
              "      <td>175.15</td>\n",
              "      <td>0.014480</td>\n",
              "    </tr>\n",
              "    <tr>\n",
              "      <th>2018-02-26</th>\n",
              "      <td>26-02-2018</td>\n",
              "      <td>179.85</td>\n",
              "      <td>0.026834</td>\n",
              "    </tr>\n",
              "  </tbody>\n",
              "</table>\n",
              "<p>706 rows × 3 columns</p>\n",
              "</div>"
            ],
            "text/plain": [
              "                  Date  Close Price      Gain\n",
              "Date                                         \n",
              "2021-01-01  01-01-2021       167.30       NaN\n",
              "2020-12-31  31-12-2020       166.00 -0.007770\n",
              "2020-12-30  30-12-2020       167.00  0.006024\n",
              "2020-12-29  29-12-2020       164.30 -0.016168\n",
              "2020-12-28  28-12-2020       165.50  0.007304\n",
              "...                ...          ...       ...\n",
              "2018-05-03  05-03-2018       169.55 -0.004112\n",
              "2018-01-03  01-03-2018       172.40  0.016809\n",
              "2018-02-28  28-02-2018       172.65  0.001450\n",
              "2018-02-27  27-02-2018       175.15  0.014480\n",
              "2018-02-26  26-02-2018       179.85  0.026834\n",
              "\n",
              "[706 rows x 3 columns]"
            ]
          },
          "metadata": {},
          "execution_count": 14
        }
      ]
    },
    {
      "cell_type": "code",
      "metadata": {
        "colab": {
          "base_uri": "https://localhost:8080/",
          "height": 447
        },
        "id": "kNqdUTwM1yrt",
        "outputId": "8548a14c-2ad9-4be9-e6d4-d57b28f33596"
      },
      "source": [
        "aster.dropna()"
      ],
      "execution_count": 15,
      "outputs": [
        {
          "output_type": "execute_result",
          "data": {
            "text/html": [
              "<div>\n",
              "<style scoped>\n",
              "    .dataframe tbody tr th:only-of-type {\n",
              "        vertical-align: middle;\n",
              "    }\n",
              "\n",
              "    .dataframe tbody tr th {\n",
              "        vertical-align: top;\n",
              "    }\n",
              "\n",
              "    .dataframe thead th {\n",
              "        text-align: right;\n",
              "    }\n",
              "</style>\n",
              "<table border=\"1\" class=\"dataframe\">\n",
              "  <thead>\n",
              "    <tr style=\"text-align: right;\">\n",
              "      <th></th>\n",
              "      <th>Date</th>\n",
              "      <th>Close Price</th>\n",
              "      <th>Gain</th>\n",
              "    </tr>\n",
              "    <tr>\n",
              "      <th>Date</th>\n",
              "      <th></th>\n",
              "      <th></th>\n",
              "      <th></th>\n",
              "    </tr>\n",
              "  </thead>\n",
              "  <tbody>\n",
              "    <tr>\n",
              "      <th>2020-12-31</th>\n",
              "      <td>31-12-2020</td>\n",
              "      <td>166.00</td>\n",
              "      <td>-0.007770</td>\n",
              "    </tr>\n",
              "    <tr>\n",
              "      <th>2020-12-30</th>\n",
              "      <td>30-12-2020</td>\n",
              "      <td>167.00</td>\n",
              "      <td>0.006024</td>\n",
              "    </tr>\n",
              "    <tr>\n",
              "      <th>2020-12-29</th>\n",
              "      <td>29-12-2020</td>\n",
              "      <td>164.30</td>\n",
              "      <td>-0.016168</td>\n",
              "    </tr>\n",
              "    <tr>\n",
              "      <th>2020-12-28</th>\n",
              "      <td>28-12-2020</td>\n",
              "      <td>165.50</td>\n",
              "      <td>0.007304</td>\n",
              "    </tr>\n",
              "    <tr>\n",
              "      <th>2020-12-24</th>\n",
              "      <td>24-12-2020</td>\n",
              "      <td>166.15</td>\n",
              "      <td>0.003927</td>\n",
              "    </tr>\n",
              "    <tr>\n",
              "      <th>...</th>\n",
              "      <td>...</td>\n",
              "      <td>...</td>\n",
              "      <td>...</td>\n",
              "    </tr>\n",
              "    <tr>\n",
              "      <th>2018-05-03</th>\n",
              "      <td>05-03-2018</td>\n",
              "      <td>169.55</td>\n",
              "      <td>-0.004112</td>\n",
              "    </tr>\n",
              "    <tr>\n",
              "      <th>2018-01-03</th>\n",
              "      <td>01-03-2018</td>\n",
              "      <td>172.40</td>\n",
              "      <td>0.016809</td>\n",
              "    </tr>\n",
              "    <tr>\n",
              "      <th>2018-02-28</th>\n",
              "      <td>28-02-2018</td>\n",
              "      <td>172.65</td>\n",
              "      <td>0.001450</td>\n",
              "    </tr>\n",
              "    <tr>\n",
              "      <th>2018-02-27</th>\n",
              "      <td>27-02-2018</td>\n",
              "      <td>175.15</td>\n",
              "      <td>0.014480</td>\n",
              "    </tr>\n",
              "    <tr>\n",
              "      <th>2018-02-26</th>\n",
              "      <td>26-02-2018</td>\n",
              "      <td>179.85</td>\n",
              "      <td>0.026834</td>\n",
              "    </tr>\n",
              "  </tbody>\n",
              "</table>\n",
              "<p>705 rows × 3 columns</p>\n",
              "</div>"
            ],
            "text/plain": [
              "                  Date  Close Price      Gain\n",
              "Date                                         \n",
              "2020-12-31  31-12-2020       166.00 -0.007770\n",
              "2020-12-30  30-12-2020       167.00  0.006024\n",
              "2020-12-29  29-12-2020       164.30 -0.016168\n",
              "2020-12-28  28-12-2020       165.50  0.007304\n",
              "2020-12-24  24-12-2020       166.15  0.003927\n",
              "...                ...          ...       ...\n",
              "2018-05-03  05-03-2018       169.55 -0.004112\n",
              "2018-01-03  01-03-2018       172.40  0.016809\n",
              "2018-02-28  28-02-2018       172.65  0.001450\n",
              "2018-02-27  27-02-2018       175.15  0.014480\n",
              "2018-02-26  26-02-2018       179.85  0.026834\n",
              "\n",
              "[705 rows x 3 columns]"
            ]
          },
          "metadata": {},
          "execution_count": 15
        }
      ]
    },
    {
      "cell_type": "code",
      "metadata": {
        "colab": {
          "base_uri": "https://localhost:8080/",
          "height": 297
        },
        "id": "Ud_xTpWw13Lh",
        "outputId": "5a43009c-28c3-46ce-cb98-3c9aadb39a45"
      },
      "source": [
        "plt.plot(aster.Gain)\n",
        "plt.xlabel(\"Time\")\n",
        "plt.ylabel(\"Gain\")\n"
      ],
      "execution_count": 16,
      "outputs": [
        {
          "output_type": "execute_result",
          "data": {
            "text/plain": [
              "Text(0, 0.5, 'Gain')"
            ]
          },
          "metadata": {},
          "execution_count": 16
        },
        {
          "output_type": "display_data",
          "data": {
            "image/png": "[encoded data removed]",
            "text/plain": [
              "<Figure size 432x288 with 1 Axes>"
            ]
          },
          "metadata": {
            "needs_background": "light"
          }
        }
      ]
    },
    {
      "cell_type": "code",
      "metadata": {
        "colab": {
          "base_uri": "https://localhost:8080/",
          "height": 458
        },
        "id": "GZWRESmw2K61",
        "outputId": "582380a6-a587-4bb3-cbcd-a167cbd7fc6c"
      },
      "source": [
        "plt.figure(figsize=(8,6))\n",
        "sns.distplot(aster.Gain)\n",
        "plt.xlabel(\"Gain\")\n",
        "plt.ylabel(\"Density\")"
      ],
      "execution_count": 17,
      "outputs": [
        {
          "output_type": "stream",
          "name": "stderr",
          "text": [
            "/usr/local/lib/python3.7/dist-packages/seaborn/distributions.py:2619: FutureWarning: `distplot` is a deprecated function and will be removed in a future version. Please adapt your code to use either `displot` (a figure-level function with similar flexibility) or `histplot` (an axes-level function for histograms).\n",
            "  warnings.warn(msg, FutureWarning)\n"
          ]
        },
        {
          "output_type": "execute_result",
          "data": {
            "text/plain": [
              "Text(0, 0.5, 'Density')"
            ]
          },
          "metadata": {},
          "execution_count": 17
        },
        {
          "output_type": "display_data",
          "data": {
            "image/png": "[encoded data removed]",
            "text/plain": [
              "<Figure size 576x432 with 1 Axes>"
            ]
          },
          "metadata": {
            "needs_background": "light"
          }
        }
      ]
    },
    {
      "cell_type": "code",
      "metadata": {
        "colab": {
          "base_uri": "https://localhost:8080/"
        },
        "id": "_x0prVC22eiU",
        "outputId": "5395a480-191d-4061-cd1a-c6b830eafac5"
      },
      "source": [
        "from scipy import stats \n",
        "1-stats.norm.cdf(0.02,aster.Gain.mean(),aster.Gain.std())"
      ],
      "execution_count": 18,
      "outputs": [
        {
          "output_type": "execute_result",
          "data": {
            "text/plain": [
              "0.22923162681953957"
            ]
          },
          "metadata": {},
          "execution_count": 18
        }
      ]
    },
    {
      "cell_type": "code",
      "metadata": {
        "colab": {
          "base_uri": "https://localhost:8080/"
        },
        "id": "GSz1Gbsj3HAo",
        "outputId": "605eb345-8ae0-4a6b-dc29-30a0e0ecc95e"
      },
      "source": [
        "stats.norm.cdf(-0.02,aster.Gain.mean(),aster.Gain.std())"
      ],
      "execution_count": 19,
      "outputs": [
        {
          "output_type": "execute_result",
          "data": {
            "text/plain": [
              "0.21914260975931504"
            ]
          },
          "metadata": {},
          "execution_count": 19
        }
      ]
    },
    {
      "cell_type": "code",
      "metadata": {
        "colab": {
          "base_uri": "https://localhost:8080/"
        },
        "id": "FPahUwSw3aCC",
        "outputId": "44ba602e-6d3d-4ef8-c6a4-f80b4db76073"
      },
      "source": [
        "stats.norm.interval(0.80,aster.Gain.mean(),aster.Gain.std())"
      ],
      "execution_count": 21,
      "outputs": [
        {
          "output_type": "execute_result",
          "data": {
            "text/plain": [
              "(-0.03335888799273137, 0.034248121540806295)"
            ]
          },
          "metadata": {},
          "execution_count": 21
        }
      ]
    },
    {
      "cell_type": "code",
      "metadata": {
        "id": "2s8tniaF3281"
      },
      "source": [
        ""
      ],
      "execution_count": null,
      "outputs": []
    }
  ]
}